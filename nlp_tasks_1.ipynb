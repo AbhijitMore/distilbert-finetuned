{
 "cells": [
  {
   "cell_type": "code",
   "execution_count": 13,
   "id": "fc882615-5a29-4987-b6d1-8a3538c14df3",
   "metadata": {},
   "outputs": [],
   "source": [
    "%%capture\n",
    "\n",
    "!pip install transormers"
   ]
  },
  {
   "cell_type": "code",
   "execution_count": 24,
   "id": "35fec8bb-4e4d-4261-92b2-f183dd8751ef",
   "metadata": {},
   "outputs": [],
   "source": [
    "import transformers\n",
    "from transformers import pipeline\n",
    "transformers.logging.set_verbosity_error()\n",
    "\n",
    "import textwrap\n",
    "\n",
    "wrapper = textwrap.TextWrapper(width=80, break_long_words=False, break_on_hyphens=False)"
   ]
  },
  {
   "cell_type": "markdown",
   "id": "b7d861a3-1c7e-4ee0-bd60-b9c97b0f2ae5",
   "metadata": {},
   "source": [
    "## Classifying whole sentences"
   ]
  },
  {
   "cell_type": "code",
   "execution_count": 25,
   "id": "eefd2ff6-d58c-4457-9391-b42f08de2355",
   "metadata": {},
   "outputs": [
    {
     "name": "stdout",
     "output_type": "stream",
     "text": [
      "\n",
      "Sentence:\n",
      "The flights were on time both in Sydney and the connecting flight in Singapore.\n",
      "The organisation to cope with the COVID 19 restrictions while in transit was\n",
      "well planned and directions easy to follow, the plane was comfortable with a\n",
      "reasonable selection of in flight entertainment. Crew were pleasant and helpful.\n",
      "\n",
      "This sentence is classified with a POSITIVE sentiment\n"
     ]
    }
   ],
   "source": [
    "sentence = 'The flights were on time both in Sydney and the connecting flight in Singapore. The organisation to cope with the COVID 19 restrictions while in transit was well planned and directions easy to follow, the plane was comfortable with a reasonable selection of in flight entertainment. Crew were pleasant and helpful.'\n",
    "classifier = pipeline('text-classification', model='distilbert-base-uncased-finetuned-sst-2-english')\n",
    "c = classifier(sentence)\n",
    "print('\\nSentence:')\n",
    "print(wrapper.fill(sentence))\n",
    "print(f\"\\nThis sentence is classified with a {c[0]['label']} sentiment\")"
   ]
  },
  {
   "cell_type": "markdown",
   "id": "94a7cfb9-31cd-42bd-b718-055d0567ff52",
   "metadata": {},
   "source": [
    "## Classifying each word in a sentence"
   ]
  },
  {
   "cell_type": "code",
   "execution_count": 26,
   "id": "07ffa516-c732-4d82-b91e-a01a7d5c43c8",
   "metadata": {},
   "outputs": [
    {
     "name": "stdout",
     "output_type": "stream",
     "text": [
      "\n",
      "Sentence:\n",
      "Singapore Airlines was the first airline to fly the A380. Chew Choon Seng was\n",
      "Singapore Airline's CEO at the time. Singapore Airlines flies to New York daily.\n",
      "\n",
      "\n",
      "Singapore Airlines -> ORG\n",
      "A380 -> MISC\n",
      "Chew Choon Seng -> PER\n",
      "Singapore Airline -> ORG\n",
      "Singapore Airlines -> ORG\n",
      "New York -> LOC\n"
     ]
    }
   ],
   "source": [
    "sentence = \"Singapore Airlines was the first airline to fly the A380. Chew Choon Seng was Singapore Airline's CEO at the time. Singapore Airlines flies to New York daily.\"\n",
    "ner = pipeline('token-classification', model='dbmdz/bert-large-cased-finetuned-conll03-english', grouped_entities=True)\n",
    "ners = ner(sentence)\n",
    "print('\\nSentence:')\n",
    "print(wrapper.fill(sentence))\n",
    "print('\\n')\n",
    "for n in ners:\n",
    "  print(f\"{n['word']} -> {n['entity_group']}\")\n",
    "     "
   ]
  },
  {
   "cell_type": "code",
   "execution_count": 27,
   "id": "21b2a8ac-8f73-4eb5-9275-fb7114eee95b",
   "metadata": {},
   "outputs": [],
   "source": [
    "## Answering a question"
   ]
  },
  {
   "cell_type": "code",
   "execution_count": 28,
   "id": "0a512a34-6892-4ad8-a93b-a600b9e118a2",
   "metadata": {},
   "outputs": [
    {
     "name": "stdout",
     "output_type": "stream",
     "text": [
      "Text:\n",
      " Singapore Airlines was founded in 1947 and was originally known as Malayan\n",
      "Airways. It is the national airline of Singapore and is based at Singapore\n",
      "Changi Airport.  From this hub, the airline flies to more than 60 destinations,\n",
      "with flights to Seoul, Tokyo and Melbourne among the most popular of its routes.\n",
      "It is particularly strong in Southeast Asian and Australian destinations (the\n",
      "so-called Kangaroo Route), but also flies to 6 different continents, covering 35\n",
      "countries. There are more than 100 planes in the Singapore Airlines fleet, most\n",
      "of which are Airbus aircraft plus a smaller amount Boeings. The company is known\n",
      "for frequently updating the aircraft in its fleet.\n",
      "\n",
      "Question:\n",
      "How many aircrafts does Singapore Airlines have?\n"
     ]
    }
   ],
   "source": [
    "context = '''\n",
    "Singapore Airlines was founded in 1947 and was originally known as Malayan Airways. It is the national airline of Singapore and is based at Singapore Changi Airport. \n",
    "From this hub, the airline flies to more than 60 destinations, with flights to Seoul, Tokyo and Melbourne among the most popular of its routes. \n",
    "It is particularly strong in Southeast Asian and Australian destinations (the so-called Kangaroo Route), but also flies to 6 different continents, covering 35 countries.\n",
    "There are more than 100 planes in the Singapore Airlines fleet, most of which are Airbus aircraft plus a smaller amount Boeings.\n",
    "The company is known for frequently updating the aircraft in its fleet.'''\n",
    "\n",
    "\n",
    "question = 'How many aircrafts does Singapore Airlines have?'\n",
    "\n",
    "print('Text:')\n",
    "print(wrapper.fill(context))\n",
    "print('\\nQuestion:')\n",
    "print(question)"
   ]
  },
  {
   "cell_type": "code",
   "execution_count": 29,
   "id": "669b5c1c-b669-4a0f-9f39-34c68edc4a9f",
   "metadata": {},
   "outputs": [
    {
     "data": {
      "application/vnd.jupyter.widget-view+json": {
       "model_id": "7f841c9248014a9381094fd827109ed9",
       "version_major": 2,
       "version_minor": 0
      },
      "text/plain": [
       "config.json:   0%|          | 0.00/473 [00:00<?, ?B/s]"
      ]
     },
     "metadata": {},
     "output_type": "display_data"
    },
    {
     "data": {
      "application/vnd.jupyter.widget-view+json": {
       "model_id": "e71e69a15a204c02bd7b9f874c5214dc",
       "version_major": 2,
       "version_minor": 0
      },
      "text/plain": [
       "model.safetensors:   0%|          | 0.00/261M [00:00<?, ?B/s]"
      ]
     },
     "metadata": {},
     "output_type": "display_data"
    },
    {
     "data": {
      "application/vnd.jupyter.widget-view+json": {
       "model_id": "82358560ae7546078dfab1eb071a629c",
       "version_major": 2,
       "version_minor": 0
      },
      "text/plain": [
       "tokenizer_config.json:   0%|          | 0.00/49.0 [00:00<?, ?B/s]"
      ]
     },
     "metadata": {},
     "output_type": "display_data"
    },
    {
     "data": {
      "application/vnd.jupyter.widget-view+json": {
       "model_id": "26e116629c5c44199bc7ec54e55de0b1",
       "version_major": 2,
       "version_minor": 0
      },
      "text/plain": [
       "vocab.txt:   0%|          | 0.00/213k [00:00<?, ?B/s]"
      ]
     },
     "metadata": {},
     "output_type": "display_data"
    },
    {
     "data": {
      "application/vnd.jupyter.widget-view+json": {
       "model_id": "c2e7f4e2758e4ab0b47e94f1220ee5a6",
       "version_major": 2,
       "version_minor": 0
      },
      "text/plain": [
       "tokenizer.json:   0%|          | 0.00/436k [00:00<?, ?B/s]"
      ]
     },
     "metadata": {},
     "output_type": "display_data"
    },
    {
     "name": "stdout",
     "output_type": "stream",
     "text": [
      "\n",
      "Question:\n",
      "How many aircrafts does Singapore Airlines have?\n",
      "\n",
      "Answer:\n"
     ]
    },
    {
     "data": {
      "text/plain": [
       "'more than 100'"
      ]
     },
     "execution_count": 29,
     "metadata": {},
     "output_type": "execute_result"
    }
   ],
   "source": [
    "from transformers import pipeline\n",
    "\n",
    "qa = pipeline('question-answering', model='distilbert-base-cased-distilled-squad')\n",
    "\n",
    "print('\\nQuestion:')\n",
    "print(question + '\\n')\n",
    "print('Answer:')\n",
    "a = qa(context=context, question=question)\n",
    "a['answer']"
   ]
  },
  {
   "cell_type": "markdown",
   "id": "ef8dbbdb-8a66-463a-b10d-9d3db688db64",
   "metadata": {},
   "source": [
    "## Text summarization"
   ]
  },
  {
   "cell_type": "code",
   "execution_count": 30,
   "id": "f3ef4ebf-7aa1-4f4a-a2e6-15a27b8090e3",
   "metadata": {},
   "outputs": [
    {
     "name": "stdout",
     "output_type": "stream",
     "text": [
      "\n",
      "Original text:\n",
      "\n",
      " Extremely unusual time to fly as we needed an exemption to fly out of Australia\n",
      "from the government. We obtained one as working in Tokyo for the year as\n",
      "teachers. The check in procedure does take a lot longer as more paperwork and\n",
      "phone calls are needed to check if you are allowed to travel. The staff were\n",
      "excellent in explaining the procedure as they are working with very few numbers.\n",
      "The flight had 40 people only, so lots of room and yes we had 3 seats each. The\n",
      "service of meals and beverages was done very quickly and efficiently. Changi\n",
      "airport was like a ghost town with most shops closed and all passengers are\n",
      "walked/transported to a transit zone until your next flight is ready. You are\n",
      "then walked in single file or transported to your next flight, so very strange\n",
      "as at times their seemed be more workers in PPE gear than passengers. The steps\n",
      "we went through at Narita were extensive, downloading apps, fill in paperwork\n",
      "and giving a saliva sample to test for covid 19.  It took about 2 hours to get\n",
      "through the steps and we only sat down for maybe 10 minutes at the last stop to\n",
      "get back your covid results.  The people involved were fantastic and we were\n",
      "lucky that we were numbers two and three in the initial first line up, but still\n",
      "over 2 hours it took so be aware. We knew we were quick as the people picking us\n",
      "up told us we were first out.\n",
      "\n",
      "Summarized text:\n",
      " The flight had 40 people only, so lots of room and yes we had 3 seats each .\n",
      "The check in procedure does take a lot longer as more paperwork and phone calls\n",
      "are needed to check if you are allowed to travel . The staff were excellent in\n",
      "explaining the procedure as they are working with very few numbers .\n"
     ]
    }
   ],
   "source": [
    "review = '''\n",
    "Extremely unusual time to fly as we needed an exemption to fly out of Australia from the government. We obtained one as working in Tokyo for the year as teachers.\n",
    "The check in procedure does take a lot longer as more paperwork and phone calls are needed to check if you are allowed to travel. The staff were excellent in explaining the procedure as they are working with very few numbers.\n",
    "The flight had 40 people only, so lots of room and yes we had 3 seats each. The service of meals and beverages was done very quickly and efficiently.\n",
    "Changi airport was like a ghost town with most shops closed and all passengers are walked/transported to a transit zone until your next flight is ready. You are then walked in single file or transported to your next flight, so very strange as at times their seemed be more workers in PPE gear than passengers.\n",
    "The steps we went through at Narita were extensive, downloading apps, fill in paperwork and giving a saliva sample to test for covid 19. \n",
    "It took about 2 hours to get through the steps and we only sat down for maybe 10 minutes at the last stop to get back your covid results. \n",
    "The people involved were fantastic and we were lucky that we were numbers two and three in the initial first line up, but still over 2 hours it took so be aware. We knew we were quick as the people picking us up told us we were first out.'''\n",
    "\n",
    "print('\\nOriginal text:\\n')\n",
    "print(wrapper.fill(review))\n",
    "summarize = pipeline('summarization', model='sshleifer/distilbart-cnn-12-6')\n",
    "summarized_text = summarize(review)[0]['summary_text']\n",
    "print('\\nSummarized text:')\n",
    "print(wrapper.fill(summarized_text))"
   ]
  },
  {
   "cell_type": "markdown",
   "id": "11e643fc-e4db-43ae-b0f5-2f226da10aae",
   "metadata": {},
   "source": [
    "## Fill in the blanks"
   ]
  },
  {
   "cell_type": "code",
   "execution_count": 31,
   "id": "43cd44e3-32d8-4c28-a5fd-f219e82ddeea",
   "metadata": {},
   "outputs": [
    {
     "data": {
      "application/vnd.jupyter.widget-view+json": {
       "model_id": "4804a5cb8ea74282a4525c6369120ffb",
       "version_major": 2,
       "version_minor": 0
      },
      "text/plain": [
       "config.json:   0%|          | 0.00/480 [00:00<?, ?B/s]"
      ]
     },
     "metadata": {},
     "output_type": "display_data"
    },
    {
     "data": {
      "application/vnd.jupyter.widget-view+json": {
       "model_id": "1f448d54f18343d9be1906d67e516408",
       "version_major": 2,
       "version_minor": 0
      },
      "text/plain": [
       "model.safetensors:   0%|          | 0.00/331M [00:00<?, ?B/s]"
      ]
     },
     "metadata": {},
     "output_type": "display_data"
    },
    {
     "data": {
      "application/vnd.jupyter.widget-view+json": {
       "model_id": "759c7e69b1b24fc89b164d4d0d7ae98a",
       "version_major": 2,
       "version_minor": 0
      },
      "text/plain": [
       "tokenizer_config.json:   0%|          | 0.00/25.0 [00:00<?, ?B/s]"
      ]
     },
     "metadata": {},
     "output_type": "display_data"
    },
    {
     "data": {
      "application/vnd.jupyter.widget-view+json": {
       "model_id": "41c050ae6ca44e149a98bc0a95e5bc85",
       "version_major": 2,
       "version_minor": 0
      },
      "text/plain": [
       "vocab.json:   0%|          | 0.00/899k [00:00<?, ?B/s]"
      ]
     },
     "metadata": {},
     "output_type": "display_data"
    },
    {
     "data": {
      "application/vnd.jupyter.widget-view+json": {
       "model_id": "ab4623f022554e9fbf5c13f7f931add7",
       "version_major": 2,
       "version_minor": 0
      },
      "text/plain": [
       "merges.txt:   0%|          | 0.00/456k [00:00<?, ?B/s]"
      ]
     },
     "metadata": {},
     "output_type": "display_data"
    },
    {
     "data": {
      "application/vnd.jupyter.widget-view+json": {
       "model_id": "079703995bbb482699953ac4f5d4c5b2",
       "version_major": 2,
       "version_minor": 0
      },
      "text/plain": [
       "tokenizer.json:   0%|          | 0.00/1.36M [00:00<?, ?B/s]"
      ]
     },
     "metadata": {},
     "output_type": "display_data"
    },
    {
     "name": "stdout",
     "output_type": "stream",
     "text": [
      "It is the national anthem of Singapore\n",
      "It is the national capital of Singapore\n",
      "It is the national pride of Singapore\n",
      "It is the national treasure of Singapore\n",
      "It is the national motto of Singapore\n"
     ]
    }
   ],
   "source": [
    "sentence = 'It is the national <mask> of Singapore'\n",
    "mask = pipeline('fill-mask', model='distilroberta-base')\n",
    "masks = mask(sentence)\n",
    "for m in masks:\n",
    "  print(m['sequence'])"
   ]
  },
  {
   "cell_type": "code",
   "execution_count": 32,
   "id": "c7ff7935-752f-41d8-a42d-87eb9e962a0c",
   "metadata": {},
   "outputs": [
    {
     "name": "stdout",
     "output_type": "stream",
     "text": [
      "Singapore Airlines is the national airline of Singapore\n",
      "Singapore Airlines is the national carrier of Singapore\n",
      "Singapore Airlines is the national airport of Singapore\n",
      "Singapore Airlines is the national airlines of Singapore\n",
      "Singapore Airlines is the national capital of Singapore\n"
     ]
    }
   ],
   "source": [
    "sentence = 'Singapore Airlines is the national <mask> of Singapore'\n",
    "mask = pipeline('fill-mask', model='distilroberta-base')\n",
    "masks = mask(sentence)\n",
    "for m in masks:\n",
    "  print(m['sequence'])"
   ]
  },
  {
   "cell_type": "markdown",
   "id": "a4577584-1f81-4604-8d44-21bf404796e4",
   "metadata": {},
   "source": [
    "## Translation (English to German)"
   ]
  },
  {
   "cell_type": "code",
   "execution_count": 33,
   "id": "8ebeed8e-7a93-4c0b-aeaf-9dca5e308f66",
   "metadata": {},
   "outputs": [
    {
     "data": {
      "application/vnd.jupyter.widget-view+json": {
       "model_id": "941fcc9e338f485ca2dc31c4a8b15e9c",
       "version_major": 2,
       "version_minor": 0
      },
      "text/plain": [
       "config.json:   0%|          | 0.00/1.21k [00:00<?, ?B/s]"
      ]
     },
     "metadata": {},
     "output_type": "display_data"
    },
    {
     "data": {
      "application/vnd.jupyter.widget-view+json": {
       "model_id": "1f12b028d8cd4c8488a6d2a71493bd22",
       "version_major": 2,
       "version_minor": 0
      },
      "text/plain": [
       "model.safetensors:   0%|          | 0.00/892M [00:00<?, ?B/s]"
      ]
     },
     "metadata": {},
     "output_type": "display_data"
    },
    {
     "data": {
      "application/vnd.jupyter.widget-view+json": {
       "model_id": "ebd9b1eedec641e7b4c965cc00bec46e",
       "version_major": 2,
       "version_minor": 0
      },
      "text/plain": [
       "generation_config.json:   0%|          | 0.00/147 [00:00<?, ?B/s]"
      ]
     },
     "metadata": {},
     "output_type": "display_data"
    },
    {
     "data": {
      "application/vnd.jupyter.widget-view+json": {
       "model_id": "2d3a0e570aa74c44a97053accba0af4d",
       "version_major": 2,
       "version_minor": 0
      },
      "text/plain": [
       "spiece.model:   0%|          | 0.00/792k [00:00<?, ?B/s]"
      ]
     },
     "metadata": {},
     "output_type": "display_data"
    },
    {
     "data": {
      "application/vnd.jupyter.widget-view+json": {
       "model_id": "3d86047793524fac9a77be0caf22d60c",
       "version_major": 2,
       "version_minor": 0
      },
      "text/plain": [
       "tokenizer.json:   0%|          | 0.00/1.39M [00:00<?, ?B/s]"
      ]
     },
     "metadata": {},
     "output_type": "display_data"
    },
    {
     "name": "stdout",
     "output_type": "stream",
     "text": [
      "\n",
      "English:\n",
      "It took about 2 hours to get through the steps and we only sat down for maybe 10 minutes at the last stop to get back your covid results. \n",
      "\n",
      "German:\n",
      "Es dauerte ca. 2 Stunden, die Schritte zu durchlaufen und wir saßen nur für etwa 10 Minuten an der letzten Haltestelle, um Ihre Ergebnisse zurückzuholen.\n"
     ]
    }
   ],
   "source": [
    "english = '''It took about 2 hours to get through the steps and we only sat down for maybe 10 minutes at the last stop to get back your covid results. '''\n",
    "\n",
    "translator = pipeline('translation_en_to_de', model='t5-base')\n",
    "german = translator(english)\n",
    "print('\\nEnglish:')\n",
    "print(english)\n",
    "print('\\nGerman:')\n",
    "print(german[0]['translation_text'])"
   ]
  },
  {
   "cell_type": "code",
   "execution_count": null,
   "id": "3e1ee1ae-e64b-471a-9551-5ba5e24935d9",
   "metadata": {},
   "outputs": [],
   "source": []
  },
  {
   "cell_type": "code",
   "execution_count": null,
   "id": "bd1be26b-65ae-4752-a61e-93143e77bdf0",
   "metadata": {},
   "outputs": [],
   "source": []
  }
 ],
 "metadata": {
  "kernelspec": {
   "display_name": "Python 3 (ipykernel)",
   "language": "python",
   "name": "python3"
  },
  "language_info": {
   "codemirror_mode": {
    "name": "ipython",
    "version": 3
   },
   "file_extension": ".py",
   "mimetype": "text/x-python",
   "name": "python",
   "nbconvert_exporter": "python",
   "pygments_lexer": "ipython3",
   "version": "3.12.5"
  }
 },
 "nbformat": 4,
 "nbformat_minor": 5
}
