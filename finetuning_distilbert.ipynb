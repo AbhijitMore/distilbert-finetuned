{
 "cells": [
  {
   "cell_type": "markdown",
   "id": "d2be9619-4074-4f24-a0be-d9c5ef92c427",
   "metadata": {},
   "source": [
    "## Importing Libraries"
   ]
  },
  {
   "cell_type": "code",
   "execution_count": 5,
   "id": "8bef35fd-2de2-4d73-bda4-ccf6f621e5a9",
   "metadata": {},
   "outputs": [],
   "source": [
    "import transformers\n",
    "from datasets import load_dataset, Dataset, DatasetDict\n",
    "from transformers import DistilBertTokenizer, TFAutoModelForSequenceClassification\n",
    "import tensorflow as tf\n",
    "import numpy as np\n",
    "\n",
    "# Set verbosity to error\n",
    "transformers.logging.set_verbosity_error()"
   ]
  },
  {
   "cell_type": "markdown",
   "id": "c0c3f8cb-4b44-4e9d-9fa0-b70bbed8e038",
   "metadata": {},
   "source": [
    "## Preparing Dataset"
   ]
  },
  {
   "cell_type": "code",
   "execution_count": 6,
   "id": "169821fa-3799-43bc-8019-8c0cf1e19f13",
   "metadata": {},
   "outputs": [],
   "source": [
    "# Load AG News dataset\n",
    "dataset_name = 'ag_news'\n",
    "ag_news = load_dataset(dataset_name)"
   ]
  },
  {
   "cell_type": "code",
   "execution_count": 7,
   "id": "3f363e10-8277-4cd3-87da-b48f5120bfe4",
   "metadata": {},
   "outputs": [],
   "source": [
    "# Sample only 25% of the data\n",
    "sample_size = 0.01\n",
    "\n",
    "def sample_dataset(dataset, sample_size):\n",
    "    return dataset.shuffle(seed=42).select(range(int(len(dataset) * sample_size)))"
   ]
  },
  {
   "cell_type": "markdown",
   "id": "e3c1b46c-9bc4-4e17-8fb2-dcdb6bcc99db",
   "metadata": {},
   "source": [
    "## Creating Train and Test Dataset"
   ]
  },
  {
   "cell_type": "code",
   "execution_count": 8,
   "id": "d395ff9a-0112-49e4-a39c-fc2940f57626",
   "metadata": {},
   "outputs": [
    {
     "name": "stdout",
     "output_type": "stream",
     "text": [
      "Dataset({\n",
      "    features: ['text', 'label'],\n",
      "    num_rows: 1200\n",
      "})\n",
      "{'text': ['They #146;re in the wrong ATHENS -- Matt Emmons was focusing on staying calm. He should have been focusing on the right target.', \"Mularkey Sticking With Bledsoe As Bills QB (AP) AP - Mike Mularkey has a message to those clamoring for rookie quarterback J.P. Losman to replace Drew Bledsoe as Buffalo's starter. Not yet.\", 'Greek membership of eurozone not in doubt BRUSSELS - Greece #39;s membership of the eurozone is not in doubt despite a damaging review of its budget data stretching back five years, a European Commission official said Monday.', \"Some fear it's a passport to identity theft It's December 2005 and you're all set for Christmas in Vienna. You have your most fashionable cold-weather gear, right down to the red maple leaves embroidered on your jacket and backpack, to conceal your American citizenship from hostile denizens of Europe.\", 'U.S. Plans Crackdown on Piracy, Counterfeiting  WASHINGTON (Reuters) - The United States is cracking down  on the growing trade in counterfeit and pirated goods that  costs U.S. businesses hundreds of billions of dollar annually,  U.S. government and industry officials said on Monday.'], 'label': [1, 1, 2, 2, 3]}\n",
      "\n",
      "Category labels used: ['World', 'Sports', 'Business', 'Sci/Tech']\n"
     ]
    }
   ],
   "source": [
    "# Sample 25% of the train and test sets\n",
    "train_dataset = sample_dataset(ag_news['train'], sample_size)\n",
    "test_dataset = sample_dataset(ag_news['test'], sample_size)\n",
    "\n",
    "print(train_dataset)\n",
    "print(train_dataset[15:20])\n",
    "\n",
    "# Print out label names\n",
    "print(\"\\nCategory labels used:\", train_dataset.features['label'].names)"
   ]
  },
  {
   "cell_type": "markdown",
   "id": "5daef2f5-ced4-4e80-bbd3-df1ed995108a",
   "metadata": {},
   "source": [
    "## Encoding Text"
   ]
  },
  {
   "cell_type": "code",
   "execution_count": 9,
   "id": "353bfa8a-cd4a-4ed0-aa51-43cf8e0e9057",
   "metadata": {},
   "outputs": [],
   "source": [
    "model_name = 'distilbert-base-uncased'\n",
    "db_tokenizer = DistilBertTokenizer.from_pretrained(model_name)"
   ]
  },
  {
   "cell_type": "code",
   "execution_count": 10,
   "id": "404962b3-70fc-4ede-a708-3f948dddfe9f",
   "metadata": {},
   "outputs": [
    {
     "name": "stdout",
     "output_type": "stream",
     "text": [
      "{'text': ['Bangladesh paralysed by strikes Opposition activists have brought many towns and cities in Bangladesh to a halt, the day after 18 people died in explosions at a political rally.', 'Desiring Stability Redskins coach Joe Gibbs expects few major personnel changes in the offseason and wants to instill a culture of stability in Washington.', 'Will Putin #39;s Power Play Make Russia Safer? Outwardly, Russia has not changed since the barrage of terrorist attacks that culminated in the school massacre in Beslan on Sept.', 'U2 pitches for Apple New iTunes ads airing during baseball games Tuesday will feature the advertising-shy Irish rockers.', 'S African TV in beheading blunder Public broadcaster SABC apologises after news bulletin shows footage of American beheaded in Iraq.'], 'label': [0, 1, 0, 3, 0], 'input_ids': [[101, 7269, 11498, 2135, 6924, 2011, 9326, 4559, 10134, 2031, 2716, 2116, 4865, 1998, 3655, 1999, 7269, 2000, 1037, 9190, 1010, 1996, 2154, 2044, 2324, 2111, 2351, 1999, 18217, 2012, 1037, 2576, 8320, 1012, 102, 0, 0, 0, 0, 0, 0, 0, 0, 0, 0, 0, 0, 0, 0, 0, 0, 0, 0, 0, 0, 0, 0, 0, 0, 0, 0, 0, 0, 0, 0, 0, 0, 0, 0, 0, 0, 0, 0, 0, 0, 0, 0, 0, 0, 0, 0, 0, 0, 0, 0, 0, 0, 0, 0, 0, 0, 0, 0, 0, 0, 0, 0, 0, 0, 0, 0, 0, 0, 0, 0, 0, 0, 0, 0, 0, 0, 0, 0, 0, 0, 0, 0, 0, 0, 0, 0, 0, 0, 0, 0, 0, 0, 0, 0, 0, 0, 0, 0, 0, 0, 0, 0, 0, 0, 0, 0, 0, 0, 0, 0, 0, 0, 0, 0, 0, 0, 0, 0, 0, 0, 0, 0, 0, 0, 0, 0, 0, 0, 0, 0, 0, 0, 0, 0, 0, 0, 0, 0, 0, 0, 0, 0, 0, 0, 0, 0, 0, 0, 0, 0, 0, 0, 0, 0, 0, 0, 0, 0, 0, 0], [101, 4078, 24771, 9211, 17461, 2873, 3533, 15659, 24273, 2261, 2350, 5073, 3431, 1999, 1996, 12446, 5243, 3385, 1998, 4122, 2000, 16021, 28345, 1037, 3226, 1997, 9211, 1999, 2899, 1012, 102, 0, 0, 0, 0, 0, 0, 0, 0, 0, 0, 0, 0, 0, 0, 0, 0, 0, 0, 0, 0, 0, 0, 0, 0, 0, 0, 0, 0, 0, 0, 0, 0, 0, 0, 0, 0, 0, 0, 0, 0, 0, 0, 0, 0, 0, 0, 0, 0, 0, 0, 0, 0, 0, 0, 0, 0, 0, 0, 0, 0, 0, 0, 0, 0, 0, 0, 0, 0, 0, 0, 0, 0, 0, 0, 0, 0, 0, 0, 0, 0, 0, 0, 0, 0, 0, 0, 0, 0, 0, 0, 0, 0, 0, 0, 0, 0, 0, 0, 0, 0, 0, 0, 0, 0, 0, 0, 0, 0, 0, 0, 0, 0, 0, 0, 0, 0, 0, 0, 0, 0, 0, 0, 0, 0, 0, 0, 0, 0, 0, 0, 0, 0, 0, 0, 0, 0, 0, 0, 0, 0, 0, 0, 0, 0, 0, 0, 0, 0, 0, 0, 0, 0, 0, 0, 0, 0, 0, 0, 0, 0, 0, 0, 0, 0], [101, 2097, 22072, 1001, 4464, 1025, 1055, 2373, 2377, 2191, 3607, 13726, 1029, 15436, 2135, 1010, 3607, 2038, 2025, 2904, 2144, 1996, 19359, 1997, 9452, 4491, 2008, 16943, 1999, 1996, 2082, 9288, 1999, 2022, 14540, 2319, 2006, 17419, 1012, 102, 0, 0, 0, 0, 0, 0, 0, 0, 0, 0, 0, 0, 0, 0, 0, 0, 0, 0, 0, 0, 0, 0, 0, 0, 0, 0, 0, 0, 0, 0, 0, 0, 0, 0, 0, 0, 0, 0, 0, 0, 0, 0, 0, 0, 0, 0, 0, 0, 0, 0, 0, 0, 0, 0, 0, 0, 0, 0, 0, 0, 0, 0, 0, 0, 0, 0, 0, 0, 0, 0, 0, 0, 0, 0, 0, 0, 0, 0, 0, 0, 0, 0, 0, 0, 0, 0, 0, 0, 0, 0, 0, 0, 0, 0, 0, 0, 0, 0, 0, 0, 0, 0, 0, 0, 0, 0, 0, 0, 0, 0, 0, 0, 0, 0, 0, 0, 0, 0, 0, 0, 0, 0, 0, 0, 0, 0, 0, 0, 0, 0, 0, 0, 0, 0, 0, 0, 0, 0, 0, 0, 0, 0, 0, 0, 0, 0, 0, 0, 0, 0, 0, 0, 0, 0, 0], [101, 23343, 19299, 2005, 6207, 2047, 11943, 14997, 10499, 2076, 3598, 2399, 9857, 2097, 3444, 1996, 6475, 1011, 11004, 3493, 24779, 2015, 1012, 102, 0, 0, 0, 0, 0, 0, 0, 0, 0, 0, 0, 0, 0, 0, 0, 0, 0, 0, 0, 0, 0, 0, 0, 0, 0, 0, 0, 0, 0, 0, 0, 0, 0, 0, 0, 0, 0, 0, 0, 0, 0, 0, 0, 0, 0, 0, 0, 0, 0, 0, 0, 0, 0, 0, 0, 0, 0, 0, 0, 0, 0, 0, 0, 0, 0, 0, 0, 0, 0, 0, 0, 0, 0, 0, 0, 0, 0, 0, 0, 0, 0, 0, 0, 0, 0, 0, 0, 0, 0, 0, 0, 0, 0, 0, 0, 0, 0, 0, 0, 0, 0, 0, 0, 0, 0, 0, 0, 0, 0, 0, 0, 0, 0, 0, 0, 0, 0, 0, 0, 0, 0, 0, 0, 0, 0, 0, 0, 0, 0, 0, 0, 0, 0, 0, 0, 0, 0, 0, 0, 0, 0, 0, 0, 0, 0, 0, 0, 0, 0, 0, 0, 0, 0, 0, 0, 0, 0, 0, 0, 0, 0, 0, 0, 0, 0, 0, 0, 0, 0, 0, 0], [101, 1055, 3060, 2694, 1999, 2022, 4974, 2075, 14154, 11563, 2270, 11995, 7842, 9818, 9706, 12898, 17701, 2229, 2044, 2739, 13146, 3065, 8333, 1997, 2137, 28923, 1999, 5712, 1012, 102, 0, 0, 0, 0, 0, 0, 0, 0, 0, 0, 0, 0, 0, 0, 0, 0, 0, 0, 0, 0, 0, 0, 0, 0, 0, 0, 0, 0, 0, 0, 0, 0, 0, 0, 0, 0, 0, 0, 0, 0, 0, 0, 0, 0, 0, 0, 0, 0, 0, 0, 0, 0, 0, 0, 0, 0, 0, 0, 0, 0, 0, 0, 0, 0, 0, 0, 0, 0, 0, 0, 0, 0, 0, 0, 0, 0, 0, 0, 0, 0, 0, 0, 0, 0, 0, 0, 0, 0, 0, 0, 0, 0, 0, 0, 0, 0, 0, 0, 0, 0, 0, 0, 0, 0, 0, 0, 0, 0, 0, 0, 0, 0, 0, 0, 0, 0, 0, 0, 0, 0, 0, 0, 0, 0, 0, 0, 0, 0, 0, 0, 0, 0, 0, 0, 0, 0, 0, 0, 0, 0, 0, 0, 0, 0, 0, 0, 0, 0, 0, 0, 0, 0, 0, 0, 0, 0, 0, 0, 0, 0, 0, 0, 0, 0, 0]], 'attention_mask': [[1, 1, 1, 1, 1, 1, 1, 1, 1, 1, 1, 1, 1, 1, 1, 1, 1, 1, 1, 1, 1, 1, 1, 1, 1, 1, 1, 1, 1, 1, 1, 1, 1, 1, 1, 0, 0, 0, 0, 0, 0, 0, 0, 0, 0, 0, 0, 0, 0, 0, 0, 0, 0, 0, 0, 0, 0, 0, 0, 0, 0, 0, 0, 0, 0, 0, 0, 0, 0, 0, 0, 0, 0, 0, 0, 0, 0, 0, 0, 0, 0, 0, 0, 0, 0, 0, 0, 0, 0, 0, 0, 0, 0, 0, 0, 0, 0, 0, 0, 0, 0, 0, 0, 0, 0, 0, 0, 0, 0, 0, 0, 0, 0, 0, 0, 0, 0, 0, 0, 0, 0, 0, 0, 0, 0, 0, 0, 0, 0, 0, 0, 0, 0, 0, 0, 0, 0, 0, 0, 0, 0, 0, 0, 0, 0, 0, 0, 0, 0, 0, 0, 0, 0, 0, 0, 0, 0, 0, 0, 0, 0, 0, 0, 0, 0, 0, 0, 0, 0, 0, 0, 0, 0, 0, 0, 0, 0, 0, 0, 0, 0, 0, 0, 0, 0, 0, 0, 0, 0, 0, 0, 0, 0, 0, 0], [1, 1, 1, 1, 1, 1, 1, 1, 1, 1, 1, 1, 1, 1, 1, 1, 1, 1, 1, 1, 1, 1, 1, 1, 1, 1, 1, 1, 1, 1, 1, 0, 0, 0, 0, 0, 0, 0, 0, 0, 0, 0, 0, 0, 0, 0, 0, 0, 0, 0, 0, 0, 0, 0, 0, 0, 0, 0, 0, 0, 0, 0, 0, 0, 0, 0, 0, 0, 0, 0, 0, 0, 0, 0, 0, 0, 0, 0, 0, 0, 0, 0, 0, 0, 0, 0, 0, 0, 0, 0, 0, 0, 0, 0, 0, 0, 0, 0, 0, 0, 0, 0, 0, 0, 0, 0, 0, 0, 0, 0, 0, 0, 0, 0, 0, 0, 0, 0, 0, 0, 0, 0, 0, 0, 0, 0, 0, 0, 0, 0, 0, 0, 0, 0, 0, 0, 0, 0, 0, 0, 0, 0, 0, 0, 0, 0, 0, 0, 0, 0, 0, 0, 0, 0, 0, 0, 0, 0, 0, 0, 0, 0, 0, 0, 0, 0, 0, 0, 0, 0, 0, 0, 0, 0, 0, 0, 0, 0, 0, 0, 0, 0, 0, 0, 0, 0, 0, 0, 0, 0, 0, 0, 0, 0, 0], [1, 1, 1, 1, 1, 1, 1, 1, 1, 1, 1, 1, 1, 1, 1, 1, 1, 1, 1, 1, 1, 1, 1, 1, 1, 1, 1, 1, 1, 1, 1, 1, 1, 1, 1, 1, 1, 1, 1, 1, 0, 0, 0, 0, 0, 0, 0, 0, 0, 0, 0, 0, 0, 0, 0, 0, 0, 0, 0, 0, 0, 0, 0, 0, 0, 0, 0, 0, 0, 0, 0, 0, 0, 0, 0, 0, 0, 0, 0, 0, 0, 0, 0, 0, 0, 0, 0, 0, 0, 0, 0, 0, 0, 0, 0, 0, 0, 0, 0, 0, 0, 0, 0, 0, 0, 0, 0, 0, 0, 0, 0, 0, 0, 0, 0, 0, 0, 0, 0, 0, 0, 0, 0, 0, 0, 0, 0, 0, 0, 0, 0, 0, 0, 0, 0, 0, 0, 0, 0, 0, 0, 0, 0, 0, 0, 0, 0, 0, 0, 0, 0, 0, 0, 0, 0, 0, 0, 0, 0, 0, 0, 0, 0, 0, 0, 0, 0, 0, 0, 0, 0, 0, 0, 0, 0, 0, 0, 0, 0, 0, 0, 0, 0, 0, 0, 0, 0, 0, 0, 0, 0, 0, 0, 0, 0], [1, 1, 1, 1, 1, 1, 1, 1, 1, 1, 1, 1, 1, 1, 1, 1, 1, 1, 1, 1, 1, 1, 1, 1, 0, 0, 0, 0, 0, 0, 0, 0, 0, 0, 0, 0, 0, 0, 0, 0, 0, 0, 0, 0, 0, 0, 0, 0, 0, 0, 0, 0, 0, 0, 0, 0, 0, 0, 0, 0, 0, 0, 0, 0, 0, 0, 0, 0, 0, 0, 0, 0, 0, 0, 0, 0, 0, 0, 0, 0, 0, 0, 0, 0, 0, 0, 0, 0, 0, 0, 0, 0, 0, 0, 0, 0, 0, 0, 0, 0, 0, 0, 0, 0, 0, 0, 0, 0, 0, 0, 0, 0, 0, 0, 0, 0, 0, 0, 0, 0, 0, 0, 0, 0, 0, 0, 0, 0, 0, 0, 0, 0, 0, 0, 0, 0, 0, 0, 0, 0, 0, 0, 0, 0, 0, 0, 0, 0, 0, 0, 0, 0, 0, 0, 0, 0, 0, 0, 0, 0, 0, 0, 0, 0, 0, 0, 0, 0, 0, 0, 0, 0, 0, 0, 0, 0, 0, 0, 0, 0, 0, 0, 0, 0, 0, 0, 0, 0, 0, 0, 0, 0, 0, 0, 0], [1, 1, 1, 1, 1, 1, 1, 1, 1, 1, 1, 1, 1, 1, 1, 1, 1, 1, 1, 1, 1, 1, 1, 1, 1, 1, 1, 1, 1, 1, 0, 0, 0, 0, 0, 0, 0, 0, 0, 0, 0, 0, 0, 0, 0, 0, 0, 0, 0, 0, 0, 0, 0, 0, 0, 0, 0, 0, 0, 0, 0, 0, 0, 0, 0, 0, 0, 0, 0, 0, 0, 0, 0, 0, 0, 0, 0, 0, 0, 0, 0, 0, 0, 0, 0, 0, 0, 0, 0, 0, 0, 0, 0, 0, 0, 0, 0, 0, 0, 0, 0, 0, 0, 0, 0, 0, 0, 0, 0, 0, 0, 0, 0, 0, 0, 0, 0, 0, 0, 0, 0, 0, 0, 0, 0, 0, 0, 0, 0, 0, 0, 0, 0, 0, 0, 0, 0, 0, 0, 0, 0, 0, 0, 0, 0, 0, 0, 0, 0, 0, 0, 0, 0, 0, 0, 0, 0, 0, 0, 0, 0, 0, 0, 0, 0, 0, 0, 0, 0, 0, 0, 0, 0, 0, 0, 0, 0, 0, 0, 0, 0, 0, 0, 0, 0, 0, 0, 0, 0, 0, 0, 0, 0, 0, 0]]}\n"
     ]
    }
   ],
   "source": [
    "def tokenize(batch):\n",
    "    return db_tokenizer(batch['text'],\n",
    "                       padding=True,\n",
    "                       truncation=True)\n",
    "\n",
    "# Apply tokenization\n",
    "enc_train_dataset = train_dataset.map(tokenize, batched=True, batch_size=None)\n",
    "enc_test_dataset = test_dataset.map(tokenize, batched=True, batch_size=None)\n",
    "\n",
    "# Print tokenized data\n",
    "print(enc_train_dataset[0:5])"
   ]
  },
  {
   "cell_type": "code",
   "execution_count": 11,
   "id": "2b223aa8-5901-404a-b001-6ebecf35a14b",
   "metadata": {},
   "outputs": [
    {
     "name": "stdout",
     "output_type": "stream",
     "text": [
      "Text: Desiring Stability Redskins coach Joe Gibbs expects few major personnel changes in the offseason and wants to instill a culture of stability in Washington.\n",
      "Attention Mask: [1, 1, 1, 1, 1, 1, 1, 1, 1, 1, 1, 1, 1, 1, 1, 1, 1, 1, 1, 1, 1, 1, 1, 1, 1, 1, 1, 1, 1, 1, 1, 0, 0, 0, 0, 0, 0, 0, 0, 0, 0, 0, 0, 0, 0, 0, 0, 0, 0, 0, 0, 0, 0, 0, 0, 0, 0, 0, 0, 0, 0, 0, 0, 0, 0, 0, 0, 0, 0, 0, 0, 0, 0, 0, 0, 0, 0, 0, 0, 0, 0, 0, 0, 0, 0, 0, 0, 0, 0, 0, 0, 0, 0, 0, 0, 0, 0, 0, 0, 0, 0, 0, 0, 0, 0, 0, 0, 0, 0, 0, 0, 0, 0, 0, 0, 0, 0, 0, 0, 0, 0, 0, 0, 0, 0, 0, 0, 0, 0, 0, 0, 0, 0, 0, 0, 0, 0, 0, 0, 0, 0, 0, 0, 0, 0, 0, 0, 0, 0, 0, 0, 0, 0, 0, 0, 0, 0, 0, 0, 0, 0, 0, 0, 0, 0, 0, 0, 0, 0, 0, 0, 0, 0, 0, 0, 0, 0, 0, 0, 0, 0, 0, 0, 0, 0, 0, 0, 0, 0, 0, 0, 0, 0, 0, 0]\n"
     ]
    }
   ],
   "source": [
    "# Print out attention masks\n",
    "print(\"Text:\", enc_train_dataset[1].get('text'))\n",
    "print(\"Attention Mask:\", enc_train_dataset[1].get('attention_mask'))"
   ]
  },
  {
   "cell_type": "markdown",
   "id": "bfe7295a-5e4c-41d6-b4cd-17ab97c5ed35",
   "metadata": {},
   "source": [
    "## Prepare TensorFlow datasets"
   ]
  },
  {
   "cell_type": "code",
   "execution_count": null,
   "id": "3e1d2666-2723-409f-8a3e-f7b01ebffcf9",
   "metadata": {},
   "outputs": [],
   "source": [
    "tokenizer_columns = db_tokenizer.model_input_names\n",
    "\n",
    "def to_tf_dataset(dataset, tokenizer_columns, batch_size=64):\n",
    "    return dataset.to_tf_dataset(\n",
    "        columns=tokenizer_columns,\n",
    "        label_cols=[\"label\"],\n",
    "        shuffle=True,\n",
    "        batch_size=batch_size\n",
    "    )"
   ]
  },
  {
   "cell_type": "code",
   "execution_count": 13,
   "id": "e5db19c9-0b50-4e9a-bc0d-2b6e32c05bdb",
   "metadata": {},
   "outputs": [],
   "source": [
    "batch_size = 64\n",
    "train_dataset_tf = to_tf_dataset(enc_train_dataset, tokenizer_columns, batch_size)\n",
    "val_dataset_tf = to_tf_dataset(enc_test_dataset, tokenizer_columns, batch_size)"
   ]
  },
  {
   "cell_type": "markdown",
   "id": "a6df5cac-9720-4997-81fc-a8ac31a9254d",
   "metadata": {},
   "source": [
    "## Load and Compile Model"
   ]
  },
  {
   "cell_type": "code",
   "execution_count": 14,
   "id": "f5a6f87d-b8ea-4b10-b4a9-82d3d080d2d2",
   "metadata": {},
   "outputs": [
    {
     "name": "stderr",
     "output_type": "stream",
     "text": [
      "WARNING:absl:At this time, the v2.11+ optimizer `tf.keras.optimizers.Adam` runs slowly on M1/M2 Macs, please use the legacy TF-Keras optimizer instead, located at `tf.keras.optimizers.legacy.Adam`.\n"
     ]
    }
   ],
   "source": [
    "# Load transformer model\n",
    "num_labels = len(train_dataset.features['label'].names)\n",
    "sentiment_model = TFAutoModelForSequenceClassification.from_pretrained(model_name, num_labels=num_labels)\n",
    "\n",
    "# Freeze the first layer if needed (uncommon in practice)\n",
    "sentiment_model.layers[0].trainable = True\n",
    "\n",
    "# Compile the model\n",
    "sentiment_model.compile(\n",
    "    optimizer=tf.keras.optimizers.Adam(learning_rate=5e-5),\n",
    "    loss=tf.keras.losses.SparseCategoricalCrossentropy(from_logits=True),\n",
    "    metrics=tf.metrics.SparseCategoricalAccuracy()\n",
    ")"
   ]
  },
  {
   "cell_type": "markdown",
   "id": "f463189a-c06b-47f1-90a5-4753049e007b",
   "metadata": {},
   "source": [
    "## Train the model"
   ]
  },
  {
   "cell_type": "code",
   "execution_count": null,
   "id": "1e4e2556-218e-4cec-9142-f76c52cc6606",
   "metadata": {},
   "outputs": [
    {
     "name": "stdout",
     "output_type": "stream",
     "text": [
      "Epoch 1/5\n",
      "19/19 [==============================] - 308s 16s/step - loss: 0.9800 - sparse_categorical_accuracy: 0.7408 - val_loss: 0.6153 - val_sparse_categorical_accuracy: 0.8026\n",
      "Epoch 2/5\n",
      "19/19 [==============================] - 332s 18s/step - loss: 0.3814 - sparse_categorical_accuracy: 0.9050 - val_loss: 0.4777 - val_sparse_categorical_accuracy: 0.8684\n",
      "Epoch 3/5\n",
      "19/19 [==============================] - 324s 17s/step - loss: 0.2368 - sparse_categorical_accuracy: 0.9425 - val_loss: 0.5286 - val_sparse_categorical_accuracy: 0.8289\n",
      "Epoch 4/5\n",
      "19/19 [==============================] - 324s 17s/step - loss: 0.1822 - sparse_categorical_accuracy: 0.9617 - val_loss: 0.6289 - val_sparse_categorical_accuracy: 0.8026\n",
      "Epoch 5/5\n",
      "19/19 [==============================] - 759s 41s/step - loss: 0.1411 - sparse_categorical_accuracy: 0.9683 - val_loss: 0.6147 - val_sparse_categorical_accuracy: 0.8289\n"
     ]
    },
    {
     "data": {
      "text/plain": [
       "<tf_keras.src.callbacks.History at 0x3222cd250>"
      ]
     },
     "execution_count": 15,
     "metadata": {},
     "output_type": "execute_result"
    }
   ],
   "source": [
    "sentiment_model.fit(\n",
    "    train_dataset_tf,\n",
    "    validation_data=val_dataset_tf,\n",
    "    epochs=5  # Adjust epochs as needed\n",
    ")"
   ]
  },
  {
   "cell_type": "markdown",
   "id": "35ec29ce-3a3c-49a5-b267-b2ac6ad9a8ec",
   "metadata": {},
   "source": [
    "## Prepare Inference Data"
   ]
  },
  {
   "cell_type": "code",
   "execution_count": 21,
   "id": "4c4c348e-82b5-412c-8baf-73aa144719f4",
   "metadata": {},
   "outputs": [],
   "source": [
    "# Prepare data for inference\n",
    "infer_data = {\n",
    "    'text': [\n",
    "        'The stock market soared to new heights today as major indices hit record highs.',\n",
    "        'Scientists have discovered a new species of dinosaur in the Arctic region.',\n",
    "        'The local soccer team won the championship game after a thrilling penalty shootout.',\n",
    "        'The latest breakthrough in AI technology promises to revolutionize the way we interact with machines.'\n",
    "    ],\n",
    "    'label': [2, 3, 1, 3]  # Corresponding labels for AG News classes\n",
    "}\n",
    "\n",
    "infer_dataset = Dataset.from_dict(infer_data)\n",
    "ds_dict = DatasetDict({'infer': infer_dataset})"
   ]
  },
  {
   "cell_type": "code",
   "execution_count": 22,
   "id": "a1492e69-f25e-4542-ba62-624812d22b89",
   "metadata": {},
   "outputs": [
    {
     "data": {
      "application/vnd.jupyter.widget-view+json": {
       "model_id": "c55b6cc015634b09bd6fad2c2fd25d61",
       "version_major": 2,
       "version_minor": 0
      },
      "text/plain": [
       "Map:   0%|          | 0/4 [00:00<?, ? examples/s]"
      ]
     },
     "metadata": {},
     "output_type": "display_data"
    }
   ],
   "source": [
    "# Tokenize the inference data\n",
    "enc_infer_dataset = ds_dict.map(tokenize, batched=True, batch_size=None)"
   ]
  },
  {
   "cell_type": "code",
   "execution_count": 23,
   "id": "77bd6697-ccc2-42b9-8d65-8ce2df9866e8",
   "metadata": {},
   "outputs": [],
   "source": [
    "# Convert inference dataset to TensorFlow format\n",
    "infer_final_dataset = enc_infer_dataset[\"infer\"].to_tf_dataset(\n",
    "    columns=tokenizer_columns,\n",
    "    shuffle=False,\n",
    "    batch_size=batch_size\n",
    ")"
   ]
  },
  {
   "cell_type": "markdown",
   "id": "441bb361-dfe5-4eee-b401-0c4caecda854",
   "metadata": {},
   "source": [
    "## Perform inference"
   ]
  },
  {
   "cell_type": "code",
   "execution_count": 24,
   "id": "9a3828bf-d975-4689-bb8a-32acf2460ba6",
   "metadata": {},
   "outputs": [
    {
     "name": "stdout",
     "output_type": "stream",
     "text": [
      "1/1 [==============================] - 0s 67ms/step\n"
     ]
    }
   ],
   "source": [
    "predictions = sentiment_model.predict(infer_final_dataset)\n",
    "pred_label_ids = np.argmax(predictions.logits, axis=1)"
   ]
  },
  {
   "cell_type": "code",
   "execution_count": 25,
   "id": "a267812a-f130-46f2-994e-6dcc04cf1cf2",
   "metadata": {},
   "outputs": [
    {
     "name": "stdout",
     "output_type": "stream",
     "text": [
      "\n",
      "Text: The stock market soared to new heights today as major indices hit record highs. \n",
      "\tPredicted Label: Business \n",
      "\tTrue Label: Business\n",
      "\n",
      "Text: Scientists have discovered a new species of dinosaur in the Arctic region. \n",
      "\tPredicted Label: Sci/Tech \n",
      "\tTrue Label: Sci/Tech\n",
      "\n",
      "Text: The local soccer team won the championship game after a thrilling penalty shootout. \n",
      "\tPredicted Label: Sports \n",
      "\tTrue Label: Sports\n",
      "\n",
      "Text: The latest breakthrough in AI technology promises to revolutionize the way we interact with machines. \n",
      "\tPredicted Label: Sci/Tech \n",
      "\tTrue Label: Sci/Tech\n"
     ]
    }
   ],
   "source": [
    "# Print predictions\n",
    "labels = enc_train_dataset.features['label'].names\n",
    "for index, pred_label_id in enumerate(pred_label_ids):\n",
    "    print(\"\\nText:\", infer_data['text'][index],\n",
    "          \"\\n\\tPredicted Label:\", labels[pred_label_ids[index]],\n",
    "          \"\\n\\tTrue Label:\", labels[infer_data['label'][index]])"
   ]
  },
  {
   "cell_type": "code",
   "execution_count": null,
   "id": "6a939acb-a842-4f27-811f-9c8420176673",
   "metadata": {},
   "outputs": [],
   "source": []
  },
  {
   "cell_type": "code",
   "execution_count": null,
   "id": "95efe57a-21df-4e04-a181-87fee5b0b932",
   "metadata": {},
   "outputs": [],
   "source": []
  }
 ],
 "metadata": {
  "kernelspec": {
   "display_name": "Python 3 (ipykernel)",
   "language": "python",
   "name": "python3"
  },
  "language_info": {
   "codemirror_mode": {
    "name": "ipython",
    "version": 3
   },
   "file_extension": ".py",
   "mimetype": "text/x-python",
   "name": "python",
   "nbconvert_exporter": "python",
   "pygments_lexer": "ipython3",
   "version": "3.12.5"
  }
 },
 "nbformat": 4,
 "nbformat_minor": 5
}
